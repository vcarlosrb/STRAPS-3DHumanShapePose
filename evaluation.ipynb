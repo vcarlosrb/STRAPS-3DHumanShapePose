{
 "cells": [
  {
   "cell_type": "code",
   "execution_count": 1,
   "metadata": {},
   "outputs": [],
   "source": [
    "import pickle\n",
    "import numpy as np\n",
    "import pandas as pd"
   ]
  },
  {
   "cell_type": "code",
   "execution_count": 16,
   "metadata": {},
   "outputs": [],
   "source": [
    "with open('evaluation_measurement2.pickle', 'rb') as fp:\n",
    "    evaluation_measurement = pickle.load(fp)"
   ]
  },
  {
   "cell_type": "code",
   "execution_count": 17,
   "metadata": {},
   "outputs": [
    {
     "name": "stdout",
     "output_type": "stream",
     "text": [
      "ERROR MEDIO PARA PESO:  21.117066664914\n"
     ]
    }
   ],
   "source": [
    "weights = 0\n",
    "for weight in evaluation_measurement['weight']:\n",
    "    weights = weights + abs(weight)\n",
    "    \n",
    "mean_error_weights = weights/len(evaluation_measurement['weight'])\n",
    "print(\"ERROR MEDIO PARA PESO: \", mean_error_weights)"
   ]
  },
  {
   "cell_type": "code",
   "execution_count": 18,
   "metadata": {},
   "outputs": [
    {
     "name": "stdout",
     "output_type": "stream",
     "text": [
      "ERROR MEDIO PARA ALTURA (cm):  6.524115755627011\n"
     ]
    }
   ],
   "source": [
    "heights = 0\n",
    "for height in evaluation_measurement['height']:\n",
    "    heights = heights + abs(height)\n",
    "    \n",
    "mean_error_heights = heights/len(evaluation_measurement['height'])\n",
    "print(\"ERROR MEDIO PARA ALTURA (cm): \", mean_error_heights*100)"
   ]
  },
  {
   "cell_type": "code",
   "execution_count": 19,
   "metadata": {},
   "outputs": [
    {
     "name": "stdout",
     "output_type": "stream",
     "text": [
      "ERROR MEDIO PARA PECHO (cm):  11.975528093832533\n"
     ]
    }
   ],
   "source": [
    "chests = 0\n",
    "for chest in evaluation_measurement['chest']:\n",
    "    chests = chests + abs(chest)\n",
    "    \n",
    "mean_error_chests = chests/len(evaluation_measurement['chest'])\n",
    "print(\"ERROR MEDIO PARA PECHO (cm): \", mean_error_chests*100)"
   ]
  },
  {
   "cell_type": "code",
   "execution_count": 20,
   "metadata": {},
   "outputs": [
    {
     "name": "stdout",
     "output_type": "stream",
     "text": [
      "ERROR MEDIO PARA CADERA (cm):  13.212565294098763\n"
     ]
    }
   ],
   "source": [
    "hips = 0\n",
    "for hip in evaluation_measurement['hip']:\n",
    "    hips = hips + abs(hip)\n",
    "    \n",
    "mean_error_hips = hips/len(evaluation_measurement['hip'])\n",
    "print(\"ERROR MEDIO PARA CADERA (cm): \", mean_error_hips*100)"
   ]
  },
  {
   "cell_type": "code",
   "execution_count": 21,
   "metadata": {},
   "outputs": [
    {
     "name": "stdout",
     "output_type": "stream",
     "text": [
      "PVE-T-SC:  0.014560758049365982\n"
     ]
    }
   ],
   "source": [
    "new_eva = np.array(evaluation_measurement['pve_neutral'])\n",
    "df = pd.DataFrame(new_eva)\n",
    "means = df.mean(axis = 0)\n",
    "total_eval = sum(means) / len(means) \n",
    "print('PVE-T-SC: ', total_eval)"
   ]
  },
  {
   "cell_type": "markdown",
   "metadata": {},
   "source": [
    "## 0. Analizar Configuraciones"
   ]
  },
  {
   "cell_type": "markdown",
   "metadata": {},
   "source": [
    "### 0.1 Parámetros promedio de SMPL"
   ]
  },
  {
   "cell_type": "code",
   "execution_count": 3,
   "metadata": {},
   "outputs": [],
   "source": [
    "smpl_mean_params = np.load('additional/neutral_smpl_mean_params_6dpose.npz')"
   ]
  },
  {
   "cell_type": "code",
   "execution_count": 5,
   "metadata": {},
   "outputs": [
    {
     "data": {
      "text/plain": [
       "3"
      ]
     },
     "execution_count": 5,
     "metadata": {},
     "output_type": "execute_result"
    }
   ],
   "source": [
    "len(smpl_mean_params)"
   ]
  },
  {
   "cell_type": "code",
   "execution_count": 7,
   "metadata": {},
   "outputs": [
    {
     "data": {
      "text/plain": [
       "array([0.9, 0. , 0. ], dtype=float32)"
      ]
     },
     "execution_count": 7,
     "metadata": {},
     "output_type": "execute_result"
    }
   ],
   "source": [
    "smpl_mean_params['cam']"
   ]
  },
  {
   "cell_type": "code",
   "execution_count": 8,
   "metadata": {},
   "outputs": [
    {
     "data": {
      "text/plain": [
       "array([ 0.20560974,  0.33556297, -0.35068282,  0.35612896,  0.41754073,\n",
       "        0.03088791,  0.30475676,  0.23613405,  0.20912662,  0.31212646],\n",
       "      dtype=float32)"
      ]
     },
     "execution_count": 8,
     "metadata": {},
     "output_type": "execute_result"
    }
   ],
   "source": [
    "smpl_mean_params['shape']"
   ]
  },
  {
   "cell_type": "code",
   "execution_count": 9,
   "metadata": {},
   "outputs": [
    {
     "data": {
      "text/plain": [
       "array([ 1.00000000e+00,  0.00000000e+00,  0.00000000e+00, -1.00000048e+00,\n",
       "        0.00000000e+00,  1.50995817e-07,  9.95594144e-01, -9.35074911e-02,\n",
       "        8.96214917e-02,  9.70808983e-01, -2.75727212e-02, -2.20876053e-01,\n",
       "        9.95853722e-01,  8.32496583e-02, -7.22568333e-02,  9.68795717e-01,\n",
       "        5.52654527e-02, -2.33461723e-01,  9.99805868e-01, -1.16801877e-02,\n",
       "        1.55893452e-02,  9.61456239e-01, -1.20510980e-02,  2.74709910e-01,\n",
       "        9.93516386e-01,  7.95017406e-02, -1.06274955e-01,  9.03366446e-01,\n",
       "        4.03832123e-02,  4.21436191e-01,  9.98174787e-01, -5.75351082e-02,\n",
       "        5.92384301e-02,  8.73740733e-01,  1.17418924e-02,  4.82977092e-01,\n",
       "        9.99480844e-01, -6.16004784e-03,  5.43189887e-03,  9.99719322e-01,\n",
       "        3.17586996e-02,  2.28755195e-02,  9.89863694e-01,  5.47103174e-02,\n",
       "       -5.37955277e-02,  9.98496652e-01, -1.31437480e-01,  3.35601554e-03,\n",
       "        9.75578487e-01, -1.29129276e-01,  1.39408067e-01,  9.89138842e-01,\n",
       "        1.69740841e-01, -7.02139735e-02,  9.99953926e-01, -8.90268944e-03,\n",
       "        8.85364786e-03,  9.99870598e-01,  3.71519849e-03,  1.33989686e-02,\n",
       "        9.81357634e-01, -1.24362208e-01,  9.10880938e-02,  9.72318351e-01,\n",
       "       -1.69234112e-01, -1.97815821e-01,  9.75871921e-01,  2.00855538e-01,\n",
       "       -2.04031423e-01,  9.78503823e-01, -7.77502581e-02, -4.67682816e-02,\n",
       "        9.99965727e-01,  3.49923270e-03, -3.45715135e-03,  9.99978244e-01,\n",
       "        7.52193388e-03, -5.59064560e-03,  9.55124676e-01,  2.70941108e-01,\n",
       "       -2.68006951e-01,  9.62574720e-01,  1.26131222e-01, -6.38862699e-03,\n",
       "        9.52408850e-01, -2.37964272e-01,  2.28888422e-01,  9.71029997e-01,\n",
       "       -2.01314509e-01, -2.17657294e-02,  9.98640895e-01, -3.41732055e-02,\n",
       "        3.14728543e-02,  9.97235835e-01,  4.15433869e-02,  6.59763440e-02,\n",
       "        7.28100538e-01,  6.24727070e-01, -6.39606535e-01,  7.67192006e-01,\n",
       "        2.46521905e-01,  1.45370275e-01,  7.56920695e-01, -5.90696871e-01,\n",
       "        6.05992019e-01,  7.94557154e-01, -2.44631916e-01,  1.40556693e-01,\n",
       "        5.88521481e-01, -2.55633533e-01,  1.52344644e-01,  9.66765523e-01,\n",
       "        7.93998480e-01,  3.98525596e-03,  5.74924588e-01,  2.02400237e-01,\n",
       "       -2.33697295e-01,  9.69179034e-01, -7.84121990e-01, -1.40449643e-01,\n",
       "        9.93295610e-01, -4.65713926e-02,  5.34210391e-02,  9.96592045e-01,\n",
       "        1.02518320e-01, -6.80837333e-02,  9.93379056e-01,  6.87826574e-02,\n",
       "       -7.23023862e-02,  9.96751606e-01, -8.92773867e-02, -4.18949872e-02,\n",
       "        9.82127666e-01,  1.82622463e-01, -1.74190253e-01,  9.73588109e-01,\n",
       "        7.12950081e-02, -1.37022391e-01,  9.73974586e-01, -2.03668222e-01,\n",
       "        1.94157705e-01,  9.76112187e-01, -1.16945654e-01, -7.56589174e-02],\n",
       "      dtype=float32)"
      ]
     },
     "execution_count": 9,
     "metadata": {},
     "output_type": "execute_result"
    }
   ],
   "source": [
    "smpl_mean_params['pose']"
   ]
  },
  {
   "cell_type": "code",
   "execution_count": 22,
   "metadata": {},
   "outputs": [
    {
     "data": {
      "text/plain": [
       "(144,)"
      ]
     },
     "execution_count": 22,
     "metadata": {},
     "output_type": "execute_result"
    }
   ],
   "source": [
    "smpl_mean_params['pose'].shape"
   ]
  },
  {
   "cell_type": "markdown",
   "metadata": {},
   "source": [
    "### 0.2 Variado"
   ]
  },
  {
   "cell_type": "code",
   "execution_count": 58,
   "metadata": {},
   "outputs": [],
   "source": [
    "from PIL import Image\n",
    "from matplotlib import pyplot"
   ]
  },
  {
   "cell_type": "code",
   "execution_count": 65,
   "metadata": {},
   "outputs": [],
   "source": [
    "with open('input_test.pickle', 'rb') as fp:\n",
    "    input_test = pickle.load(fp)"
   ]
  },
  {
   "cell_type": "code",
   "execution_count": 66,
   "metadata": {},
   "outputs": [
    {
     "data": {
      "text/plain": [
       "torch.Size([32, 256, 256])"
      ]
     },
     "execution_count": 66,
     "metadata": {},
     "output_type": "execute_result"
    }
   ],
   "source": [
    "input_test.shape"
   ]
  },
  {
   "cell_type": "code",
   "execution_count": 68,
   "metadata": {},
   "outputs": [
    {
     "data": {
      "text/plain": [
       "tensor([[0, 0, 0,  ..., 0, 0, 0],\n",
       "        [0, 0, 0,  ..., 0, 0, 0],\n",
       "        [0, 0, 0,  ..., 0, 0, 0],\n",
       "        ...,\n",
       "        [0, 0, 0,  ..., 0, 0, 0],\n",
       "        [0, 0, 0,  ..., 0, 0, 0],\n",
       "        [0, 0, 0,  ..., 0, 0, 0]], device='cuda:0')"
      ]
     },
     "execution_count": 68,
     "metadata": {},
     "output_type": "execute_result"
    }
   ],
   "source": [
    "input_test[0]"
   ]
  },
  {
   "cell_type": "code",
   "execution_count": 52,
   "metadata": {},
   "outputs": [
    {
     "data": {
      "text/plain": [
       "torch.Size([256, 256])"
      ]
     },
     "execution_count": 52,
     "metadata": {},
     "output_type": "execute_result"
    }
   ],
   "source": [
    "input_test[0][0].shape"
   ]
  },
  {
   "cell_type": "code",
   "execution_count": 56,
   "metadata": {},
   "outputs": [],
   "source": [
    "image2 = Image.fromarray(input_test[0][0].cpu().detach().numpy())"
   ]
  },
  {
   "cell_type": "code",
   "execution_count": 59,
   "metadata": {},
   "outputs": [
    {
     "data": {
      "image/png": "[encoded data removed]",
      "text/plain": [
       "<Figure size 432x288 with 1 Axes>"
      ]
     },
     "metadata": {
      "needs_background": "light"
     },
     "output_type": "display_data"
    }
   ],
   "source": [
    "pyplot.imshow(image2)\n",
    "pyplot.show()"
   ]
  },
  {
   "cell_type": "markdown",
   "metadata": {},
   "source": [
    "## 1. Analizar Datos de Entrenamiento y Evaluación"
   ]
  },
  {
   "cell_type": "code",
   "execution_count": 38,
   "metadata": {},
   "outputs": [],
   "source": [
    "from data.synthetic_training_dataset import SyntheticTrainingDataset"
   ]
  },
  {
   "cell_type": "markdown",
   "metadata": {},
   "source": [
    "### 1.1 Datos de Entrenamiento"
   ]
  },
  {
   "cell_type": "code",
   "execution_count": 39,
   "metadata": {},
   "outputs": [],
   "source": [
    "train_path = './data/amass_up3d_3dpw_train.npz'\n",
    "\n",
    "train_dataset = SyntheticTrainingDataset(npz_path=train_path, params_from='all')"
   ]
  },
  {
   "cell_type": "code",
   "execution_count": 40,
   "metadata": {},
   "outputs": [
    {
     "data": {
      "text/plain": [
       "347962"
      ]
     },
     "execution_count": 40,
     "metadata": {},
     "output_type": "execute_result"
    }
   ],
   "source": [
    "len(train_dataset)"
   ]
  },
  {
   "cell_type": "code",
   "execution_count": 41,
   "metadata": {},
   "outputs": [
    {
     "data": {
      "text/plain": [
       "{'pose': tensor([-2.7344e+01, -1.4954e+00, -5.0242e+00, -3.0735e-01,  6.2436e-02,\n",
       "          3.1503e-01, -4.8097e-01, -1.3984e-02, -3.1270e-01,  2.9813e-01,\n",
       "         -2.3007e-02,  1.4938e-02,  8.7894e-01, -1.3737e-01, -1.3880e-01,\n",
       "          5.9682e-01,  1.2568e-01,  5.7579e-02,  3.2384e-02, -3.5846e-02,\n",
       "          5.3690e-02, -2.1110e-01,  9.6816e-02, -1.3598e-01, -8.3156e-02,\n",
       "         -1.7998e-01,  2.9774e-01,  1.3692e-02, -4.3456e-02,  2.4490e-02,\n",
       "         -2.3649e-01,  2.4035e-01,  2.7845e-01, -1.3573e-01,  9.9988e-02,\n",
       "         -4.1959e-01, -1.2317e-01,  1.1310e-02,  1.0158e-01,  7.8374e-03,\n",
       "         -1.5371e-01, -2.3754e-01, -1.0029e-01,  2.0720e-01,  2.0847e-01,\n",
       "          1.3823e-01, -1.1027e-01, -7.6759e-04,  3.6322e-02, -2.8740e-01,\n",
       "         -5.9660e-01,  5.3885e-02,  3.8864e-01,  5.4329e-01,  2.4638e-01,\n",
       "         -1.2175e+00,  2.4618e-01, -3.7457e-03,  1.5001e+00, -4.1864e-01,\n",
       "          2.5386e-02, -1.0759e-01,  1.1754e-01,  2.8639e-02,  1.1327e-01,\n",
       "         -1.4226e-01, -2.0009e-01, -4.9888e-02, -2.4284e-01, -1.5929e-01,\n",
       "          1.2921e-01,  2.2922e-01]),\n",
       " 'shape': tensor([ 2.7698,  0.3306,  0.1040, -1.3996, -0.0227, -0.2023,  0.1061, -0.0585,\n",
       "         -0.0801,  0.1672])}"
      ]
     },
     "execution_count": 41,
     "metadata": {},
     "output_type": "execute_result"
    }
   ],
   "source": [
    "train_dataset[0]"
   ]
  },
  {
   "cell_type": "code",
   "execution_count": 42,
   "metadata": {},
   "outputs": [
    {
     "data": {
      "text/plain": [
       "torch.Size([72])"
      ]
     },
     "execution_count": 42,
     "metadata": {},
     "output_type": "execute_result"
    }
   ],
   "source": [
    "train_dataset[0]['pose'].shape"
   ]
  },
  {
   "cell_type": "code",
   "execution_count": 43,
   "metadata": {},
   "outputs": [
    {
     "data": {
      "text/plain": [
       "torch.Size([10])"
      ]
     },
     "execution_count": 43,
     "metadata": {},
     "output_type": "execute_result"
    }
   ],
   "source": [
    "train_dataset[0]['shape'].shape"
   ]
  },
  {
   "cell_type": "code",
   "execution_count": 47,
   "metadata": {},
   "outputs": [
    {
     "data": {
      "text/plain": [
       "tensor([-2.7344e+01, -1.4954e+00, -5.0242e+00, -3.0735e-01,  6.2436e-02,\n",
       "         3.1503e-01, -4.8097e-01, -1.3984e-02, -3.1270e-01,  2.9813e-01,\n",
       "        -2.3007e-02,  1.4938e-02,  8.7894e-01, -1.3737e-01, -1.3880e-01,\n",
       "         5.9682e-01,  1.2568e-01,  5.7579e-02,  3.2384e-02, -3.5846e-02,\n",
       "         5.3690e-02, -2.1110e-01,  9.6816e-02, -1.3598e-01, -8.3156e-02,\n",
       "        -1.7998e-01,  2.9774e-01,  1.3692e-02, -4.3456e-02,  2.4490e-02,\n",
       "        -2.3649e-01,  2.4035e-01,  2.7845e-01, -1.3573e-01,  9.9988e-02,\n",
       "        -4.1959e-01, -1.2317e-01,  1.1310e-02,  1.0158e-01,  7.8374e-03,\n",
       "        -1.5371e-01, -2.3754e-01, -1.0029e-01,  2.0720e-01,  2.0847e-01,\n",
       "         1.3823e-01, -1.1027e-01, -7.6759e-04,  3.6322e-02, -2.8740e-01,\n",
       "        -5.9660e-01,  5.3885e-02,  3.8864e-01,  5.4329e-01,  2.4638e-01,\n",
       "        -1.2175e+00,  2.4618e-01, -3.7457e-03,  1.5001e+00, -4.1864e-01,\n",
       "         2.5386e-02, -1.0759e-01,  1.1754e-01,  2.8639e-02,  1.1327e-01,\n",
       "        -1.4226e-01, -2.0009e-01, -4.9888e-02, -2.4284e-01, -1.5929e-01,\n",
       "         1.2921e-01,  2.2922e-01])"
      ]
     },
     "execution_count": 47,
     "metadata": {},
     "output_type": "execute_result"
    }
   ],
   "source": [
    "train_dataset[0]['pose']"
   ]
  },
  {
   "cell_type": "code",
   "execution_count": 45,
   "metadata": {},
   "outputs": [
    {
     "data": {
      "text/plain": [
       "tensor([-3.0735e-01,  6.2436e-02,  3.1503e-01, -4.8097e-01, -1.3984e-02,\n",
       "        -3.1270e-01,  2.9813e-01, -2.3007e-02,  1.4938e-02,  8.7894e-01,\n",
       "        -1.3737e-01, -1.3880e-01,  5.9682e-01,  1.2568e-01,  5.7579e-02,\n",
       "         3.2384e-02, -3.5846e-02,  5.3690e-02, -2.1110e-01,  9.6816e-02,\n",
       "        -1.3598e-01, -8.3156e-02, -1.7998e-01,  2.9774e-01,  1.3692e-02,\n",
       "        -4.3456e-02,  2.4490e-02, -2.3649e-01,  2.4035e-01,  2.7845e-01,\n",
       "        -1.3573e-01,  9.9988e-02, -4.1959e-01, -1.2317e-01,  1.1310e-02,\n",
       "         1.0158e-01,  7.8374e-03, -1.5371e-01, -2.3754e-01, -1.0029e-01,\n",
       "         2.0720e-01,  2.0847e-01,  1.3823e-01, -1.1027e-01, -7.6759e-04,\n",
       "         3.6322e-02, -2.8740e-01, -5.9660e-01,  5.3885e-02,  3.8864e-01,\n",
       "         5.4329e-01,  2.4638e-01, -1.2175e+00,  2.4618e-01, -3.7457e-03,\n",
       "         1.5001e+00, -4.1864e-01,  2.5386e-02, -1.0759e-01,  1.1754e-01,\n",
       "         2.8639e-02,  1.1327e-01, -1.4226e-01, -2.0009e-01, -4.9888e-02,\n",
       "        -2.4284e-01, -1.5929e-01,  1.2921e-01,  2.2922e-01])"
      ]
     },
     "execution_count": 45,
     "metadata": {},
     "output_type": "execute_result"
    }
   ],
   "source": [
    "train_dataset[0]['pose'][3:]"
   ]
  },
  {
   "cell_type": "code",
   "execution_count": 46,
   "metadata": {},
   "outputs": [
    {
     "data": {
      "text/plain": [
       "tensor([-27.3444,  -1.4954,  -5.0242])"
      ]
     },
     "execution_count": 46,
     "metadata": {},
     "output_type": "execute_result"
    }
   ],
   "source": [
    "train_dataset[0]['pose'][:3]"
   ]
  },
  {
   "cell_type": "markdown",
   "metadata": {},
   "source": [
    "### 1.2 Datos de Evaluación"
   ]
  },
  {
   "cell_type": "code",
   "execution_count": 59,
   "metadata": {},
   "outputs": [],
   "source": [
    "val_path = 'data/up3d_3dpw_val.npz'\n",
    "\n",
    "val_dataset = SyntheticTrainingDataset(npz_path=val_path, params_from='all')"
   ]
  },
  {
   "cell_type": "code",
   "execution_count": 60,
   "metadata": {},
   "outputs": [
    {
     "data": {
      "text/plain": [
       "11836"
      ]
     },
     "execution_count": 60,
     "metadata": {},
     "output_type": "execute_result"
    }
   ],
   "source": [
    "len(val_dataset)"
   ]
  },
  {
   "cell_type": "code",
   "execution_count": 61,
   "metadata": {},
   "outputs": [
    {
     "data": {
      "text/plain": [
       "{'pose': tensor([-2.7808e+01,  4.4019e-01, -4.4615e+00, -1.1451e-01, -3.1743e-02,\n",
       "          5.8566e-02, -3.5597e-01, -7.7979e-03, -5.5962e-02,  2.0834e-01,\n",
       "         -2.6680e-02, -5.1161e-03,  6.9643e-01, -1.3414e-01, -9.9954e-02,\n",
       "          6.6915e-01, -5.3203e-02,  7.7806e-02,  1.8558e-02,  6.8516e-03,\n",
       "          3.0969e-03, -8.0196e-02,  3.9522e-02, -3.1556e-02, -9.6071e-02,\n",
       "         -1.8827e-01,  2.0305e-01,  2.9115e-02, -3.9537e-02, -1.3958e-02,\n",
       "         -3.4169e-01,  2.7468e-01,  1.2448e-01, -1.2524e-01,  1.3106e-01,\n",
       "         -3.6924e-01, -1.7380e-01, -2.0098e-02,  6.3947e-02,  1.9406e-02,\n",
       "          1.4228e-02, -3.4996e-01, -8.6720e-02,  7.1075e-02,  3.0278e-01,\n",
       "          1.7379e-01, -9.2989e-02, -4.4066e-02,  1.0234e-01, -3.2872e-01,\n",
       "         -9.3252e-01,  2.0622e-01,  2.8756e-01,  8.7007e-01,  2.8338e-01,\n",
       "         -1.8472e+00,  6.2886e-01,  4.2728e-02,  1.9275e+00, -7.2214e-01,\n",
       "         -1.7678e-01, -1.2305e-01,  2.1278e-01, -1.1537e-02,  1.7261e-01,\n",
       "         -2.2975e-01, -8.9399e-02, -7.6659e-02, -2.3785e-01, -7.6835e-02,\n",
       "          1.4510e-01,  2.6220e-01]),\n",
       " 'shape': tensor([ 1.0190, -0.0280,  0.3020,  0.1128, -0.0320,  0.0294,  0.0190, -0.0271,\n",
       "          0.0428, -0.0335])}"
      ]
     },
     "execution_count": 61,
     "metadata": {},
     "output_type": "execute_result"
    }
   ],
   "source": [
    "val_dataset[0]"
   ]
  },
  {
   "cell_type": "code",
   "execution_count": 62,
   "metadata": {},
   "outputs": [
    {
     "data": {
      "text/plain": [
       "torch.Size([72])"
      ]
     },
     "execution_count": 62,
     "metadata": {},
     "output_type": "execute_result"
    }
   ],
   "source": [
    "val_dataset[0]['pose'].shape"
   ]
  },
  {
   "cell_type": "code",
   "execution_count": 63,
   "metadata": {},
   "outputs": [
    {
     "data": {
      "text/plain": [
       "torch.Size([10])"
      ]
     },
     "execution_count": 63,
     "metadata": {},
     "output_type": "execute_result"
    }
   ],
   "source": [
    "val_dataset[0]['shape'].shape"
   ]
  },
  {
   "cell_type": "markdown",
   "metadata": {},
   "source": [
    "## 2. STARPS evaluación con SSP-3D"
   ]
  },
  {
   "cell_type": "markdown",
   "metadata": {},
   "source": [
    "### 2.1 Pesos Base"
   ]
  },
  {
   "cell_type": "code",
   "execution_count": 33,
   "metadata": {},
   "outputs": [],
   "source": [
    "with open('evaluation.json', 'rb') as fp:\n",
    "    evaluation_file = pickle.load(fp)"
   ]
  },
  {
   "cell_type": "code",
   "execution_count": 34,
   "metadata": {},
   "outputs": [],
   "source": [
    "new_eva = np.array(evaluation_file['data'])\n",
    "df = pd.DataFrame(new_eva)"
   ]
  },
  {
   "cell_type": "code",
   "execution_count": 35,
   "metadata": {},
   "outputs": [
    {
     "data": {
      "text/html": [
       "<div>\n",
       "<style scoped>\n",
       "    .dataframe tbody tr th:only-of-type {\n",
       "        vertical-align: middle;\n",
       "    }\n",
       "\n",
       "    .dataframe tbody tr th {\n",
       "        vertical-align: top;\n",
       "    }\n",
       "\n",
       "    .dataframe thead th {\n",
       "        text-align: right;\n",
       "    }\n",
       "</style>\n",
       "<table border=\"1\" class=\"dataframe\">\n",
       "  <thead>\n",
       "    <tr style=\"text-align: right;\">\n",
       "      <th></th>\n",
       "      <th>0</th>\n",
       "      <th>1</th>\n",
       "      <th>2</th>\n",
       "      <th>3</th>\n",
       "      <th>4</th>\n",
       "      <th>5</th>\n",
       "      <th>6</th>\n",
       "      <th>7</th>\n",
       "      <th>8</th>\n",
       "      <th>9</th>\n",
       "      <th>...</th>\n",
       "      <th>6880</th>\n",
       "      <th>6881</th>\n",
       "      <th>6882</th>\n",
       "      <th>6883</th>\n",
       "      <th>6884</th>\n",
       "      <th>6885</th>\n",
       "      <th>6886</th>\n",
       "      <th>6887</th>\n",
       "      <th>6888</th>\n",
       "      <th>6889</th>\n",
       "    </tr>\n",
       "  </thead>\n",
       "  <tbody>\n",
       "    <tr>\n",
       "      <th>0</th>\n",
       "      <td>0.020383</td>\n",
       "      <td>0.020410</td>\n",
       "      <td>0.020402</td>\n",
       "      <td>0.020369</td>\n",
       "      <td>0.020420</td>\n",
       "      <td>0.020439</td>\n",
       "      <td>0.020399</td>\n",
       "      <td>0.020391</td>\n",
       "      <td>0.021003</td>\n",
       "      <td>0.021316</td>\n",
       "      <td>...</td>\n",
       "      <td>0.019607</td>\n",
       "      <td>0.019691</td>\n",
       "      <td>0.019670</td>\n",
       "      <td>0.019600</td>\n",
       "      <td>0.019521</td>\n",
       "      <td>0.019476</td>\n",
       "      <td>0.019584</td>\n",
       "      <td>0.019517</td>\n",
       "      <td>0.019553</td>\n",
       "      <td>0.019618</td>\n",
       "    </tr>\n",
       "    <tr>\n",
       "      <th>1</th>\n",
       "      <td>0.008856</td>\n",
       "      <td>0.008768</td>\n",
       "      <td>0.008659</td>\n",
       "      <td>0.008701</td>\n",
       "      <td>0.008607</td>\n",
       "      <td>0.008679</td>\n",
       "      <td>0.008531</td>\n",
       "      <td>0.008569</td>\n",
       "      <td>0.008748</td>\n",
       "      <td>0.008707</td>\n",
       "      <td>...</td>\n",
       "      <td>0.007965</td>\n",
       "      <td>0.007955</td>\n",
       "      <td>0.007895</td>\n",
       "      <td>0.007836</td>\n",
       "      <td>0.007781</td>\n",
       "      <td>0.007751</td>\n",
       "      <td>0.007875</td>\n",
       "      <td>0.007863</td>\n",
       "      <td>0.007897</td>\n",
       "      <td>0.007920</td>\n",
       "    </tr>\n",
       "    <tr>\n",
       "      <th>2</th>\n",
       "      <td>0.009039</td>\n",
       "      <td>0.008790</td>\n",
       "      <td>0.008505</td>\n",
       "      <td>0.008755</td>\n",
       "      <td>0.008440</td>\n",
       "      <td>0.008745</td>\n",
       "      <td>0.008202</td>\n",
       "      <td>0.008481</td>\n",
       "      <td>0.006951</td>\n",
       "      <td>0.006811</td>\n",
       "      <td>...</td>\n",
       "      <td>0.012421</td>\n",
       "      <td>0.012365</td>\n",
       "      <td>0.012380</td>\n",
       "      <td>0.012461</td>\n",
       "      <td>0.012548</td>\n",
       "      <td>0.012612</td>\n",
       "      <td>0.012517</td>\n",
       "      <td>0.012552</td>\n",
       "      <td>0.012504</td>\n",
       "      <td>0.012486</td>\n",
       "    </tr>\n",
       "    <tr>\n",
       "      <th>3</th>\n",
       "      <td>0.016012</td>\n",
       "      <td>0.015549</td>\n",
       "      <td>0.015158</td>\n",
       "      <td>0.015462</td>\n",
       "      <td>0.014874</td>\n",
       "      <td>0.015148</td>\n",
       "      <td>0.014695</td>\n",
       "      <td>0.014885</td>\n",
       "      <td>0.013101</td>\n",
       "      <td>0.012647</td>\n",
       "      <td>...</td>\n",
       "      <td>0.014731</td>\n",
       "      <td>0.014595</td>\n",
       "      <td>0.014430</td>\n",
       "      <td>0.014321</td>\n",
       "      <td>0.014244</td>\n",
       "      <td>0.014208</td>\n",
       "      <td>0.014494</td>\n",
       "      <td>0.014542</td>\n",
       "      <td>0.014597</td>\n",
       "      <td>0.014604</td>\n",
       "    </tr>\n",
       "    <tr>\n",
       "      <th>4</th>\n",
       "      <td>0.007808</td>\n",
       "      <td>0.007721</td>\n",
       "      <td>0.007341</td>\n",
       "      <td>0.007425</td>\n",
       "      <td>0.007435</td>\n",
       "      <td>0.007832</td>\n",
       "      <td>0.006873</td>\n",
       "      <td>0.006998</td>\n",
       "      <td>0.006083</td>\n",
       "      <td>0.005536</td>\n",
       "      <td>...</td>\n",
       "      <td>0.007281</td>\n",
       "      <td>0.007177</td>\n",
       "      <td>0.007098</td>\n",
       "      <td>0.007098</td>\n",
       "      <td>0.007133</td>\n",
       "      <td>0.007165</td>\n",
       "      <td>0.007192</td>\n",
       "      <td>0.007233</td>\n",
       "      <td>0.007238</td>\n",
       "      <td>0.007229</td>\n",
       "    </tr>\n",
       "  </tbody>\n",
       "</table>\n",
       "<p>5 rows × 6890 columns</p>\n",
       "</div>"
      ],
      "text/plain": [
       "       0         1         2         3         4         5         6     \\\n",
       "0  0.020383  0.020410  0.020402  0.020369  0.020420  0.020439  0.020399   \n",
       "1  0.008856  0.008768  0.008659  0.008701  0.008607  0.008679  0.008531   \n",
       "2  0.009039  0.008790  0.008505  0.008755  0.008440  0.008745  0.008202   \n",
       "3  0.016012  0.015549  0.015158  0.015462  0.014874  0.015148  0.014695   \n",
       "4  0.007808  0.007721  0.007341  0.007425  0.007435  0.007832  0.006873   \n",
       "\n",
       "       7         8         9     ...      6880      6881      6882      6883  \\\n",
       "0  0.020391  0.021003  0.021316  ...  0.019607  0.019691  0.019670  0.019600   \n",
       "1  0.008569  0.008748  0.008707  ...  0.007965  0.007955  0.007895  0.007836   \n",
       "2  0.008481  0.006951  0.006811  ...  0.012421  0.012365  0.012380  0.012461   \n",
       "3  0.014885  0.013101  0.012647  ...  0.014731  0.014595  0.014430  0.014321   \n",
       "4  0.006998  0.006083  0.005536  ...  0.007281  0.007177  0.007098  0.007098   \n",
       "\n",
       "       6884      6885      6886      6887      6888      6889  \n",
       "0  0.019521  0.019476  0.019584  0.019517  0.019553  0.019618  \n",
       "1  0.007781  0.007751  0.007875  0.007863  0.007897  0.007920  \n",
       "2  0.012548  0.012612  0.012517  0.012552  0.012504  0.012486  \n",
       "3  0.014244  0.014208  0.014494  0.014542  0.014597  0.014604  \n",
       "4  0.007133  0.007165  0.007192  0.007233  0.007238  0.007229  \n",
       "\n",
       "[5 rows x 6890 columns]"
      ]
     },
     "execution_count": 35,
     "metadata": {},
     "output_type": "execute_result"
    }
   ],
   "source": [
    "df.head()"
   ]
  },
  {
   "cell_type": "code",
   "execution_count": 36,
   "metadata": {},
   "outputs": [
    {
     "name": "stdout",
     "output_type": "stream",
     "text": [
      "PVE-T-SC:  0.015256683442117147\n"
     ]
    }
   ],
   "source": [
    "means = df.mean(axis = 0)\n",
    "total_eval = sum(means) / len(means) \n",
    "print('PVE-T-SC: ', total_eval)"
   ]
  },
  {
   "cell_type": "markdown",
   "metadata": {},
   "source": [
    "### 2.2 Épocas de entrenamiento = 1"
   ]
  },
  {
   "cell_type": "code",
   "execution_count": 29,
   "metadata": {},
   "outputs": [],
   "source": [
    "with open('evaluation.pickle', 'rb') as fp:\n",
    "    evaluation_file = pickle.load(fp)"
   ]
  },
  {
   "cell_type": "code",
   "execution_count": 30,
   "metadata": {},
   "outputs": [],
   "source": [
    "new_eva = np.array(evaluation_file['data'])\n",
    "df = pd.DataFrame(new_eva)"
   ]
  },
  {
   "cell_type": "code",
   "execution_count": 32,
   "metadata": {},
   "outputs": [
    {
     "data": {
      "text/html": [
       "<div>\n",
       "<style scoped>\n",
       "    .dataframe tbody tr th:only-of-type {\n",
       "        vertical-align: middle;\n",
       "    }\n",
       "\n",
       "    .dataframe tbody tr th {\n",
       "        vertical-align: top;\n",
       "    }\n",
       "\n",
       "    .dataframe thead th {\n",
       "        text-align: right;\n",
       "    }\n",
       "</style>\n",
       "<table border=\"1\" class=\"dataframe\">\n",
       "  <thead>\n",
       "    <tr style=\"text-align: right;\">\n",
       "      <th></th>\n",
       "      <th>0</th>\n",
       "      <th>1</th>\n",
       "      <th>2</th>\n",
       "      <th>3</th>\n",
       "      <th>4</th>\n",
       "      <th>5</th>\n",
       "      <th>6</th>\n",
       "      <th>7</th>\n",
       "      <th>8</th>\n",
       "      <th>9</th>\n",
       "      <th>...</th>\n",
       "      <th>6880</th>\n",
       "      <th>6881</th>\n",
       "      <th>6882</th>\n",
       "      <th>6883</th>\n",
       "      <th>6884</th>\n",
       "      <th>6885</th>\n",
       "      <th>6886</th>\n",
       "      <th>6887</th>\n",
       "      <th>6888</th>\n",
       "      <th>6889</th>\n",
       "    </tr>\n",
       "  </thead>\n",
       "  <tbody>\n",
       "    <tr>\n",
       "      <th>0</th>\n",
       "      <td>0.007626</td>\n",
       "      <td>0.007655</td>\n",
       "      <td>0.007863</td>\n",
       "      <td>0.007936</td>\n",
       "      <td>0.007817</td>\n",
       "      <td>0.007753</td>\n",
       "      <td>0.008126</td>\n",
       "      <td>0.008287</td>\n",
       "      <td>0.009176</td>\n",
       "      <td>0.009487</td>\n",
       "      <td>...</td>\n",
       "      <td>0.008354</td>\n",
       "      <td>0.008447</td>\n",
       "      <td>0.008549</td>\n",
       "      <td>0.008630</td>\n",
       "      <td>0.008686</td>\n",
       "      <td>0.008742</td>\n",
       "      <td>0.008556</td>\n",
       "      <td>0.008546</td>\n",
       "      <td>0.008494</td>\n",
       "      <td>0.008486</td>\n",
       "    </tr>\n",
       "    <tr>\n",
       "      <th>1</th>\n",
       "      <td>0.008384</td>\n",
       "      <td>0.008423</td>\n",
       "      <td>0.008547</td>\n",
       "      <td>0.008557</td>\n",
       "      <td>0.008529</td>\n",
       "      <td>0.008477</td>\n",
       "      <td>0.008714</td>\n",
       "      <td>0.008772</td>\n",
       "      <td>0.009498</td>\n",
       "      <td>0.009718</td>\n",
       "      <td>...</td>\n",
       "      <td>0.008432</td>\n",
       "      <td>0.008511</td>\n",
       "      <td>0.008552</td>\n",
       "      <td>0.008567</td>\n",
       "      <td>0.008565</td>\n",
       "      <td>0.008576</td>\n",
       "      <td>0.008518</td>\n",
       "      <td>0.008485</td>\n",
       "      <td>0.008474</td>\n",
       "      <td>0.008497</td>\n",
       "    </tr>\n",
       "    <tr>\n",
       "      <th>2</th>\n",
       "      <td>0.006936</td>\n",
       "      <td>0.007134</td>\n",
       "      <td>0.007043</td>\n",
       "      <td>0.006860</td>\n",
       "      <td>0.007263</td>\n",
       "      <td>0.007340</td>\n",
       "      <td>0.006941</td>\n",
       "      <td>0.006802</td>\n",
       "      <td>0.007356</td>\n",
       "      <td>0.007189</td>\n",
       "      <td>...</td>\n",
       "      <td>0.005531</td>\n",
       "      <td>0.005551</td>\n",
       "      <td>0.005482</td>\n",
       "      <td>0.005411</td>\n",
       "      <td>0.005356</td>\n",
       "      <td>0.005313</td>\n",
       "      <td>0.005422</td>\n",
       "      <td>0.005367</td>\n",
       "      <td>0.005416</td>\n",
       "      <td>0.005472</td>\n",
       "    </tr>\n",
       "    <tr>\n",
       "      <th>3</th>\n",
       "      <td>0.012772</td>\n",
       "      <td>0.012865</td>\n",
       "      <td>0.012674</td>\n",
       "      <td>0.012564</td>\n",
       "      <td>0.012836</td>\n",
       "      <td>0.012977</td>\n",
       "      <td>0.012444</td>\n",
       "      <td>0.012372</td>\n",
       "      <td>0.012960</td>\n",
       "      <td>0.012838</td>\n",
       "      <td>...</td>\n",
       "      <td>0.011438</td>\n",
       "      <td>0.011465</td>\n",
       "      <td>0.011352</td>\n",
       "      <td>0.011236</td>\n",
       "      <td>0.011137</td>\n",
       "      <td>0.011070</td>\n",
       "      <td>0.011273</td>\n",
       "      <td>0.011208</td>\n",
       "      <td>0.011279</td>\n",
       "      <td>0.011355</td>\n",
       "    </tr>\n",
       "    <tr>\n",
       "      <th>4</th>\n",
       "      <td>0.011658</td>\n",
       "      <td>0.011661</td>\n",
       "      <td>0.011637</td>\n",
       "      <td>0.011652</td>\n",
       "      <td>0.011605</td>\n",
       "      <td>0.011682</td>\n",
       "      <td>0.011635</td>\n",
       "      <td>0.011692</td>\n",
       "      <td>0.012129</td>\n",
       "      <td>0.012311</td>\n",
       "      <td>...</td>\n",
       "      <td>0.011015</td>\n",
       "      <td>0.011063</td>\n",
       "      <td>0.011069</td>\n",
       "      <td>0.011050</td>\n",
       "      <td>0.011015</td>\n",
       "      <td>0.011005</td>\n",
       "      <td>0.011033</td>\n",
       "      <td>0.011004</td>\n",
       "      <td>0.011014</td>\n",
       "      <td>0.011038</td>\n",
       "    </tr>\n",
       "  </tbody>\n",
       "</table>\n",
       "<p>5 rows × 6890 columns</p>\n",
       "</div>"
      ],
      "text/plain": [
       "       0         1         2         3         4         5         6     \\\n",
       "0  0.007626  0.007655  0.007863  0.007936  0.007817  0.007753  0.008126   \n",
       "1  0.008384  0.008423  0.008547  0.008557  0.008529  0.008477  0.008714   \n",
       "2  0.006936  0.007134  0.007043  0.006860  0.007263  0.007340  0.006941   \n",
       "3  0.012772  0.012865  0.012674  0.012564  0.012836  0.012977  0.012444   \n",
       "4  0.011658  0.011661  0.011637  0.011652  0.011605  0.011682  0.011635   \n",
       "\n",
       "       7         8         9     ...      6880      6881      6882      6883  \\\n",
       "0  0.008287  0.009176  0.009487  ...  0.008354  0.008447  0.008549  0.008630   \n",
       "1  0.008772  0.009498  0.009718  ...  0.008432  0.008511  0.008552  0.008567   \n",
       "2  0.006802  0.007356  0.007189  ...  0.005531  0.005551  0.005482  0.005411   \n",
       "3  0.012372  0.012960  0.012838  ...  0.011438  0.011465  0.011352  0.011236   \n",
       "4  0.011692  0.012129  0.012311  ...  0.011015  0.011063  0.011069  0.011050   \n",
       "\n",
       "       6884      6885      6886      6887      6888      6889  \n",
       "0  0.008686  0.008742  0.008556  0.008546  0.008494  0.008486  \n",
       "1  0.008565  0.008576  0.008518  0.008485  0.008474  0.008497  \n",
       "2  0.005356  0.005313  0.005422  0.005367  0.005416  0.005472  \n",
       "3  0.011137  0.011070  0.011273  0.011208  0.011279  0.011355  \n",
       "4  0.011015  0.011005  0.011033  0.011004  0.011014  0.011038  \n",
       "\n",
       "[5 rows x 6890 columns]"
      ]
     },
     "execution_count": 32,
     "metadata": {},
     "output_type": "execute_result"
    }
   ],
   "source": [
    "df.head()"
   ]
  },
  {
   "cell_type": "code",
   "execution_count": 31,
   "metadata": {},
   "outputs": [
    {
     "name": "stdout",
     "output_type": "stream",
     "text": [
      "PVE-T-SC:  0.010000903993447585\n"
     ]
    }
   ],
   "source": [
    "means = df.mean(axis = 0)\n",
    "total_eval = sum(means) / len(means) \n",
    "print('PVE-T-SC: ', total_eval)"
   ]
  },
  {
   "cell_type": "code",
   "execution_count": null,
   "metadata": {},
   "outputs": [],
   "source": []
  }
 ],
 "metadata": {
  "kernelspec": {
   "display_name": "Python 3",
   "language": "python",
   "name": "python3"
  },
  "language_info": {
   "codemirror_mode": {
    "name": "ipython",
    "version": 3
   },
   "file_extension": ".py",
   "mimetype": "text/x-python",
   "name": "python",
   "nbconvert_exporter": "python",
   "pygments_lexer": "ipython3",
   "version": "3.8.3"
  }
 },
 "nbformat": 4,
 "nbformat_minor": 4
}
