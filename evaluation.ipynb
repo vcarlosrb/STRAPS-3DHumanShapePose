{
 "cells": [
  {
   "cell_type": "code",
   "execution_count": 2,
   "metadata": {},
   "outputs": [],
   "source": [
    "import pickle\n",
    "import numpy as np\n",
    "import pandas as pd"
   ]
  },
  {
   "cell_type": "markdown",
   "metadata": {},
   "source": [
    "## 0. Analizar Configuraciones"
   ]
  },
  {
   "cell_type": "markdown",
   "metadata": {},
   "source": [
    "### 0.1 Parámetros promedio de SMPL"
   ]
  },
  {
   "cell_type": "code",
   "execution_count": 3,
   "metadata": {},
   "outputs": [],
   "source": [
    "smpl_mean_params = np.load('additional/neutral_smpl_mean_params_6dpose.npz')"
   ]
  },
  {
   "cell_type": "code",
   "execution_count": 4,
   "metadata": {},
   "outputs": [
    {
     "data": {
      "text/plain": [
       "3"
      ]
     },
     "execution_count": 4,
     "metadata": {},
     "output_type": "execute_result"
    }
   ],
   "source": [
    "len(smpl_mean_params)"
   ]
  },
  {
   "cell_type": "code",
   "execution_count": 5,
   "metadata": {},
   "outputs": [
    {
     "data": {
      "text/plain": [
       "array([0.9, 0. , 0. ], dtype=float32)"
      ]
     },
     "execution_count": 5,
     "metadata": {},
     "output_type": "execute_result"
    }
   ],
   "source": [
    "smpl_mean_params['cam']"
   ]
  },
  {
   "cell_type": "code",
   "execution_count": 6,
   "metadata": {},
   "outputs": [
    {
     "data": {
      "text/plain": [
       "array([ 0.20560974,  0.33556297, -0.35068282,  0.35612896,  0.41754073,\n",
       "        0.03088791,  0.30475676,  0.23613405,  0.20912662,  0.31212646],\n",
       "      dtype=float32)"
      ]
     },
     "execution_count": 6,
     "metadata": {},
     "output_type": "execute_result"
    }
   ],
   "source": [
    "smpl_mean_params['shape']"
   ]
  },
  {
   "cell_type": "code",
   "execution_count": 7,
   "metadata": {},
   "outputs": [
    {
     "data": {
      "text/plain": [
       "array([ 1.00000000e+00,  0.00000000e+00,  0.00000000e+00, -1.00000048e+00,\n",
       "        0.00000000e+00,  1.50995817e-07,  9.95594144e-01, -9.35074911e-02,\n",
       "        8.96214917e-02,  9.70808983e-01, -2.75727212e-02, -2.20876053e-01,\n",
       "        9.95853722e-01,  8.32496583e-02, -7.22568333e-02,  9.68795717e-01,\n",
       "        5.52654527e-02, -2.33461723e-01,  9.99805868e-01, -1.16801877e-02,\n",
       "        1.55893452e-02,  9.61456239e-01, -1.20510980e-02,  2.74709910e-01,\n",
       "        9.93516386e-01,  7.95017406e-02, -1.06274955e-01,  9.03366446e-01,\n",
       "        4.03832123e-02,  4.21436191e-01,  9.98174787e-01, -5.75351082e-02,\n",
       "        5.92384301e-02,  8.73740733e-01,  1.17418924e-02,  4.82977092e-01,\n",
       "        9.99480844e-01, -6.16004784e-03,  5.43189887e-03,  9.99719322e-01,\n",
       "        3.17586996e-02,  2.28755195e-02,  9.89863694e-01,  5.47103174e-02,\n",
       "       -5.37955277e-02,  9.98496652e-01, -1.31437480e-01,  3.35601554e-03,\n",
       "        9.75578487e-01, -1.29129276e-01,  1.39408067e-01,  9.89138842e-01,\n",
       "        1.69740841e-01, -7.02139735e-02,  9.99953926e-01, -8.90268944e-03,\n",
       "        8.85364786e-03,  9.99870598e-01,  3.71519849e-03,  1.33989686e-02,\n",
       "        9.81357634e-01, -1.24362208e-01,  9.10880938e-02,  9.72318351e-01,\n",
       "       -1.69234112e-01, -1.97815821e-01,  9.75871921e-01,  2.00855538e-01,\n",
       "       -2.04031423e-01,  9.78503823e-01, -7.77502581e-02, -4.67682816e-02,\n",
       "        9.99965727e-01,  3.49923270e-03, -3.45715135e-03,  9.99978244e-01,\n",
       "        7.52193388e-03, -5.59064560e-03,  9.55124676e-01,  2.70941108e-01,\n",
       "       -2.68006951e-01,  9.62574720e-01,  1.26131222e-01, -6.38862699e-03,\n",
       "        9.52408850e-01, -2.37964272e-01,  2.28888422e-01,  9.71029997e-01,\n",
       "       -2.01314509e-01, -2.17657294e-02,  9.98640895e-01, -3.41732055e-02,\n",
       "        3.14728543e-02,  9.97235835e-01,  4.15433869e-02,  6.59763440e-02,\n",
       "        7.28100538e-01,  6.24727070e-01, -6.39606535e-01,  7.67192006e-01,\n",
       "        2.46521905e-01,  1.45370275e-01,  7.56920695e-01, -5.90696871e-01,\n",
       "        6.05992019e-01,  7.94557154e-01, -2.44631916e-01,  1.40556693e-01,\n",
       "        5.88521481e-01, -2.55633533e-01,  1.52344644e-01,  9.66765523e-01,\n",
       "        7.93998480e-01,  3.98525596e-03,  5.74924588e-01,  2.02400237e-01,\n",
       "       -2.33697295e-01,  9.69179034e-01, -7.84121990e-01, -1.40449643e-01,\n",
       "        9.93295610e-01, -4.65713926e-02,  5.34210391e-02,  9.96592045e-01,\n",
       "        1.02518320e-01, -6.80837333e-02,  9.93379056e-01,  6.87826574e-02,\n",
       "       -7.23023862e-02,  9.96751606e-01, -8.92773867e-02, -4.18949872e-02,\n",
       "        9.82127666e-01,  1.82622463e-01, -1.74190253e-01,  9.73588109e-01,\n",
       "        7.12950081e-02, -1.37022391e-01,  9.73974586e-01, -2.03668222e-01,\n",
       "        1.94157705e-01,  9.76112187e-01, -1.16945654e-01, -7.56589174e-02],\n",
       "      dtype=float32)"
      ]
     },
     "execution_count": 7,
     "metadata": {},
     "output_type": "execute_result"
    }
   ],
   "source": [
    "smpl_mean_params['pose']"
   ]
  },
  {
   "cell_type": "code",
   "execution_count": 8,
   "metadata": {},
   "outputs": [
    {
     "data": {
      "text/plain": [
       "(144,)"
      ]
     },
     "execution_count": 8,
     "metadata": {},
     "output_type": "execute_result"
    }
   ],
   "source": [
    "smpl_mean_params['pose'].shape"
   ]
  },
  {
   "cell_type": "markdown",
   "metadata": {},
   "source": [
    "## 1. Analizar Datos de Entrenamiento y Evaluación"
   ]
  },
  {
   "cell_type": "code",
   "execution_count": 38,
   "metadata": {},
   "outputs": [],
   "source": [
    "from data.synthetic_training_dataset import SyntheticTrainingDataset"
   ]
  },
  {
   "cell_type": "markdown",
   "metadata": {},
   "source": [
    "### 1.1 Datos de Entrenamiento"
   ]
  },
  {
   "cell_type": "code",
   "execution_count": 39,
   "metadata": {},
   "outputs": [],
   "source": [
    "train_path = './data/amass_up3d_3dpw_train.npz'\n",
    "\n",
    "train_dataset = SyntheticTrainingDataset(npz_path=train_path, params_from='all')"
   ]
  },
  {
   "cell_type": "code",
   "execution_count": 40,
   "metadata": {},
   "outputs": [
    {
     "data": {
      "text/plain": [
       "347962"
      ]
     },
     "execution_count": 40,
     "metadata": {},
     "output_type": "execute_result"
    }
   ],
   "source": [
    "len(train_dataset)"
   ]
  },
  {
   "cell_type": "code",
   "execution_count": 41,
   "metadata": {},
   "outputs": [
    {
     "data": {
      "text/plain": [
       "{'pose': tensor([-2.7344e+01, -1.4954e+00, -5.0242e+00, -3.0735e-01,  6.2436e-02,\n",
       "          3.1503e-01, -4.8097e-01, -1.3984e-02, -3.1270e-01,  2.9813e-01,\n",
       "         -2.3007e-02,  1.4938e-02,  8.7894e-01, -1.3737e-01, -1.3880e-01,\n",
       "          5.9682e-01,  1.2568e-01,  5.7579e-02,  3.2384e-02, -3.5846e-02,\n",
       "          5.3690e-02, -2.1110e-01,  9.6816e-02, -1.3598e-01, -8.3156e-02,\n",
       "         -1.7998e-01,  2.9774e-01,  1.3692e-02, -4.3456e-02,  2.4490e-02,\n",
       "         -2.3649e-01,  2.4035e-01,  2.7845e-01, -1.3573e-01,  9.9988e-02,\n",
       "         -4.1959e-01, -1.2317e-01,  1.1310e-02,  1.0158e-01,  7.8374e-03,\n",
       "         -1.5371e-01, -2.3754e-01, -1.0029e-01,  2.0720e-01,  2.0847e-01,\n",
       "          1.3823e-01, -1.1027e-01, -7.6759e-04,  3.6322e-02, -2.8740e-01,\n",
       "         -5.9660e-01,  5.3885e-02,  3.8864e-01,  5.4329e-01,  2.4638e-01,\n",
       "         -1.2175e+00,  2.4618e-01, -3.7457e-03,  1.5001e+00, -4.1864e-01,\n",
       "          2.5386e-02, -1.0759e-01,  1.1754e-01,  2.8639e-02,  1.1327e-01,\n",
       "         -1.4226e-01, -2.0009e-01, -4.9888e-02, -2.4284e-01, -1.5929e-01,\n",
       "          1.2921e-01,  2.2922e-01]),\n",
       " 'shape': tensor([ 2.7698,  0.3306,  0.1040, -1.3996, -0.0227, -0.2023,  0.1061, -0.0585,\n",
       "         -0.0801,  0.1672])}"
      ]
     },
     "execution_count": 41,
     "metadata": {},
     "output_type": "execute_result"
    }
   ],
   "source": [
    "train_dataset[0]"
   ]
  },
  {
   "cell_type": "code",
   "execution_count": 42,
   "metadata": {},
   "outputs": [
    {
     "data": {
      "text/plain": [
       "torch.Size([72])"
      ]
     },
     "execution_count": 42,
     "metadata": {},
     "output_type": "execute_result"
    }
   ],
   "source": [
    "train_dataset[0]['pose'].shape"
   ]
  },
  {
   "cell_type": "code",
   "execution_count": 43,
   "metadata": {},
   "outputs": [
    {
     "data": {
      "text/plain": [
       "torch.Size([10])"
      ]
     },
     "execution_count": 43,
     "metadata": {},
     "output_type": "execute_result"
    }
   ],
   "source": [
    "train_dataset[0]['shape'].shape"
   ]
  },
  {
   "cell_type": "code",
   "execution_count": 47,
   "metadata": {},
   "outputs": [
    {
     "data": {
      "text/plain": [
       "tensor([-2.7344e+01, -1.4954e+00, -5.0242e+00, -3.0735e-01,  6.2436e-02,\n",
       "         3.1503e-01, -4.8097e-01, -1.3984e-02, -3.1270e-01,  2.9813e-01,\n",
       "        -2.3007e-02,  1.4938e-02,  8.7894e-01, -1.3737e-01, -1.3880e-01,\n",
       "         5.9682e-01,  1.2568e-01,  5.7579e-02,  3.2384e-02, -3.5846e-02,\n",
       "         5.3690e-02, -2.1110e-01,  9.6816e-02, -1.3598e-01, -8.3156e-02,\n",
       "        -1.7998e-01,  2.9774e-01,  1.3692e-02, -4.3456e-02,  2.4490e-02,\n",
       "        -2.3649e-01,  2.4035e-01,  2.7845e-01, -1.3573e-01,  9.9988e-02,\n",
       "        -4.1959e-01, -1.2317e-01,  1.1310e-02,  1.0158e-01,  7.8374e-03,\n",
       "        -1.5371e-01, -2.3754e-01, -1.0029e-01,  2.0720e-01,  2.0847e-01,\n",
       "         1.3823e-01, -1.1027e-01, -7.6759e-04,  3.6322e-02, -2.8740e-01,\n",
       "        -5.9660e-01,  5.3885e-02,  3.8864e-01,  5.4329e-01,  2.4638e-01,\n",
       "        -1.2175e+00,  2.4618e-01, -3.7457e-03,  1.5001e+00, -4.1864e-01,\n",
       "         2.5386e-02, -1.0759e-01,  1.1754e-01,  2.8639e-02,  1.1327e-01,\n",
       "        -1.4226e-01, -2.0009e-01, -4.9888e-02, -2.4284e-01, -1.5929e-01,\n",
       "         1.2921e-01,  2.2922e-01])"
      ]
     },
     "execution_count": 47,
     "metadata": {},
     "output_type": "execute_result"
    }
   ],
   "source": [
    "train_dataset[0]['pose']"
   ]
  },
  {
   "cell_type": "code",
   "execution_count": 45,
   "metadata": {},
   "outputs": [
    {
     "data": {
      "text/plain": [
       "tensor([-3.0735e-01,  6.2436e-02,  3.1503e-01, -4.8097e-01, -1.3984e-02,\n",
       "        -3.1270e-01,  2.9813e-01, -2.3007e-02,  1.4938e-02,  8.7894e-01,\n",
       "        -1.3737e-01, -1.3880e-01,  5.9682e-01,  1.2568e-01,  5.7579e-02,\n",
       "         3.2384e-02, -3.5846e-02,  5.3690e-02, -2.1110e-01,  9.6816e-02,\n",
       "        -1.3598e-01, -8.3156e-02, -1.7998e-01,  2.9774e-01,  1.3692e-02,\n",
       "        -4.3456e-02,  2.4490e-02, -2.3649e-01,  2.4035e-01,  2.7845e-01,\n",
       "        -1.3573e-01,  9.9988e-02, -4.1959e-01, -1.2317e-01,  1.1310e-02,\n",
       "         1.0158e-01,  7.8374e-03, -1.5371e-01, -2.3754e-01, -1.0029e-01,\n",
       "         2.0720e-01,  2.0847e-01,  1.3823e-01, -1.1027e-01, -7.6759e-04,\n",
       "         3.6322e-02, -2.8740e-01, -5.9660e-01,  5.3885e-02,  3.8864e-01,\n",
       "         5.4329e-01,  2.4638e-01, -1.2175e+00,  2.4618e-01, -3.7457e-03,\n",
       "         1.5001e+00, -4.1864e-01,  2.5386e-02, -1.0759e-01,  1.1754e-01,\n",
       "         2.8639e-02,  1.1327e-01, -1.4226e-01, -2.0009e-01, -4.9888e-02,\n",
       "        -2.4284e-01, -1.5929e-01,  1.2921e-01,  2.2922e-01])"
      ]
     },
     "execution_count": 45,
     "metadata": {},
     "output_type": "execute_result"
    }
   ],
   "source": [
    "train_dataset[0]['pose'][3:]"
   ]
  },
  {
   "cell_type": "code",
   "execution_count": 46,
   "metadata": {},
   "outputs": [
    {
     "data": {
      "text/plain": [
       "tensor([-27.3444,  -1.4954,  -5.0242])"
      ]
     },
     "execution_count": 46,
     "metadata": {},
     "output_type": "execute_result"
    }
   ],
   "source": [
    "train_dataset[0]['pose'][:3]"
   ]
  },
  {
   "cell_type": "markdown",
   "metadata": {},
   "source": [
    "### 1.2 Datos de Evaluación"
   ]
  },
  {
   "cell_type": "code",
   "execution_count": 59,
   "metadata": {},
   "outputs": [],
   "source": [
    "val_path = 'data/up3d_3dpw_val.npz'\n",
    "\n",
    "val_dataset = SyntheticTrainingDataset(npz_path=val_path, params_from='all')"
   ]
  },
  {
   "cell_type": "code",
   "execution_count": 60,
   "metadata": {},
   "outputs": [
    {
     "data": {
      "text/plain": [
       "11836"
      ]
     },
     "execution_count": 60,
     "metadata": {},
     "output_type": "execute_result"
    }
   ],
   "source": [
    "len(val_dataset)"
   ]
  },
  {
   "cell_type": "code",
   "execution_count": 61,
   "metadata": {},
   "outputs": [
    {
     "data": {
      "text/plain": [
       "{'pose': tensor([-2.7808e+01,  4.4019e-01, -4.4615e+00, -1.1451e-01, -3.1743e-02,\n",
       "          5.8566e-02, -3.5597e-01, -7.7979e-03, -5.5962e-02,  2.0834e-01,\n",
       "         -2.6680e-02, -5.1161e-03,  6.9643e-01, -1.3414e-01, -9.9954e-02,\n",
       "          6.6915e-01, -5.3203e-02,  7.7806e-02,  1.8558e-02,  6.8516e-03,\n",
       "          3.0969e-03, -8.0196e-02,  3.9522e-02, -3.1556e-02, -9.6071e-02,\n",
       "         -1.8827e-01,  2.0305e-01,  2.9115e-02, -3.9537e-02, -1.3958e-02,\n",
       "         -3.4169e-01,  2.7468e-01,  1.2448e-01, -1.2524e-01,  1.3106e-01,\n",
       "         -3.6924e-01, -1.7380e-01, -2.0098e-02,  6.3947e-02,  1.9406e-02,\n",
       "          1.4228e-02, -3.4996e-01, -8.6720e-02,  7.1075e-02,  3.0278e-01,\n",
       "          1.7379e-01, -9.2989e-02, -4.4066e-02,  1.0234e-01, -3.2872e-01,\n",
       "         -9.3252e-01,  2.0622e-01,  2.8756e-01,  8.7007e-01,  2.8338e-01,\n",
       "         -1.8472e+00,  6.2886e-01,  4.2728e-02,  1.9275e+00, -7.2214e-01,\n",
       "         -1.7678e-01, -1.2305e-01,  2.1278e-01, -1.1537e-02,  1.7261e-01,\n",
       "         -2.2975e-01, -8.9399e-02, -7.6659e-02, -2.3785e-01, -7.6835e-02,\n",
       "          1.4510e-01,  2.6220e-01]),\n",
       " 'shape': tensor([ 1.0190, -0.0280,  0.3020,  0.1128, -0.0320,  0.0294,  0.0190, -0.0271,\n",
       "          0.0428, -0.0335])}"
      ]
     },
     "execution_count": 61,
     "metadata": {},
     "output_type": "execute_result"
    }
   ],
   "source": [
    "val_dataset[0]"
   ]
  },
  {
   "cell_type": "code",
   "execution_count": 62,
   "metadata": {},
   "outputs": [
    {
     "data": {
      "text/plain": [
       "torch.Size([72])"
      ]
     },
     "execution_count": 62,
     "metadata": {},
     "output_type": "execute_result"
    }
   ],
   "source": [
    "val_dataset[0]['pose'].shape"
   ]
  },
  {
   "cell_type": "code",
   "execution_count": 63,
   "metadata": {},
   "outputs": [
    {
     "data": {
      "text/plain": [
       "torch.Size([10])"
      ]
     },
     "execution_count": 63,
     "metadata": {},
     "output_type": "execute_result"
    }
   ],
   "source": [
    "val_dataset[0]['shape'].shape"
   ]
  },
  {
   "cell_type": "markdown",
   "metadata": {},
   "source": [
    "## 2. STARPS evaluación con SSP-3D"
   ]
  },
  {
   "cell_type": "markdown",
   "metadata": {},
   "source": [
    "### 2.1 Evaluacion con pesos del autor"
   ]
  },
  {
   "cell_type": "code",
   "execution_count": 9,
   "metadata": {},
   "outputs": [],
   "source": [
    "with open('evaluation_measurement.pickle', 'rb') as fp:\n",
    "    evaluation_measurement = pickle.load(fp)"
   ]
  },
  {
   "cell_type": "code",
   "execution_count": 10,
   "metadata": {},
   "outputs": [],
   "source": [
    "weights = 0\n",
    "for weight in evaluation_measurement['weight']:\n",
    "    weights = weights + abs(weight)\n",
    "    \n",
    "mean_error_weights = weights/len(evaluation_measurement['weight'])"
   ]
  },
  {
   "cell_type": "code",
   "execution_count": 11,
   "metadata": {},
   "outputs": [],
   "source": [
    "heights = 0\n",
    "for height in evaluation_measurement['height']:\n",
    "    heights = heights + abs(height)\n",
    "    \n",
    "mean_error_heights = heights/len(evaluation_measurement['height'])"
   ]
  },
  {
   "cell_type": "code",
   "execution_count": 12,
   "metadata": {},
   "outputs": [],
   "source": [
    "chests = 0\n",
    "for chest in evaluation_measurement['chest']:\n",
    "    chests = chests + abs(chest)\n",
    "    \n",
    "mean_error_chests = chests/len(evaluation_measurement['chest'])"
   ]
  },
  {
   "cell_type": "code",
   "execution_count": 13,
   "metadata": {},
   "outputs": [],
   "source": [
    "hips = 0\n",
    "for hip in evaluation_measurement['hip']:\n",
    "    hips = hips + abs(hip)\n",
    "    \n",
    "mean_error_hips = hips/len(evaluation_measurement['hip'])"
   ]
  },
  {
   "cell_type": "code",
   "execution_count": 14,
   "metadata": {},
   "outputs": [],
   "source": [
    "new_eva = np.array(evaluation_measurement['pve_neutral'])\n",
    "df = pd.DataFrame(new_eva)\n",
    "means = df.mean(axis = 0)\n",
    "total_eval = sum(means) / len(means) "
   ]
  },
  {
   "cell_type": "code",
   "execution_count": 15,
   "metadata": {},
   "outputs": [
    {
     "name": "stdout",
     "output_type": "stream",
     "text": [
      "ERROR MEDIO PARA PESO:  21.117066664914\n",
      "ERROR MEDIO PARA ALTURA (cm):  6.524115755627011\n",
      "ERROR MEDIO PARA PECHO (cm):  11.975528093832533\n",
      "ERROR MEDIO PARA CADERA (cm):  13.212565294098763\n",
      "PVE-T-SC:  0.014560758049365982\n"
     ]
    }
   ],
   "source": [
    "print(\"ERROR MEDIO PARA PESO: \", mean_error_weights)\n",
    "print(\"ERROR MEDIO PARA ALTURA (cm): \", mean_error_heights*100)\n",
    "print(\"ERROR MEDIO PARA PECHO (cm): \", mean_error_chests*100)\n",
    "print(\"ERROR MEDIO PARA CADERA (cm): \", mean_error_hips*100)\n",
    "print('PVE-T-SC: ', total_eval)"
   ]
  },
  {
   "cell_type": "markdown",
   "metadata": {},
   "source": [
    "### 2.2 Evaluacion agregando de entrada la altura"
   ]
  },
  {
   "cell_type": "code",
   "execution_count": 16,
   "metadata": {},
   "outputs": [],
   "source": [
    "with open('evaluation_measurement.pickle', 'rb') as fp:\n",
    "    evaluation_measurement = pickle.load(fp)"
   ]
  },
  {
   "cell_type": "code",
   "execution_count": 17,
   "metadata": {},
   "outputs": [],
   "source": [
    "weights = 0\n",
    "for weight in evaluation_measurement['weight']:\n",
    "    weights = weights + abs(weight)\n",
    "    \n",
    "mean_error_weights = weights/len(evaluation_measurement['weight'])"
   ]
  },
  {
   "cell_type": "code",
   "execution_count": 18,
   "metadata": {},
   "outputs": [],
   "source": [
    "heights = 0\n",
    "for height in evaluation_measurement['height']:\n",
    "    heights = heights + abs(height)\n",
    "    \n",
    "mean_error_heights = heights/len(evaluation_measurement['height'])"
   ]
  },
  {
   "cell_type": "code",
   "execution_count": 19,
   "metadata": {},
   "outputs": [],
   "source": [
    "chests = 0\n",
    "for chest in evaluation_measurement['chest']:\n",
    "    chests = chests + abs(chest)\n",
    "    \n",
    "mean_error_chests = chests/len(evaluation_measurement['chest'])"
   ]
  },
  {
   "cell_type": "code",
   "execution_count": 20,
   "metadata": {},
   "outputs": [],
   "source": [
    "hips = 0\n",
    "for hip in evaluation_measurement['hip']:\n",
    "    hips = hips + abs(hip)\n",
    "    \n",
    "mean_error_hips = hips/len(evaluation_measurement['hip'])"
   ]
  },
  {
   "cell_type": "code",
   "execution_count": 21,
   "metadata": {},
   "outputs": [],
   "source": [
    "new_eva = np.array(evaluation_measurement['pve_neutral'])\n",
    "df = pd.DataFrame(new_eva)\n",
    "means = df.mean(axis = 0)\n",
    "total_eval = sum(means) / len(means) "
   ]
  },
  {
   "cell_type": "code",
   "execution_count": 22,
   "metadata": {},
   "outputs": [
    {
     "name": "stdout",
     "output_type": "stream",
     "text": [
      "ERROR MEDIO PARA PESO:  21.117066664914\n",
      "ERROR MEDIO PARA ALTURA (cm):  6.524115755627011\n",
      "ERROR MEDIO PARA PECHO (cm):  11.975528093832533\n",
      "ERROR MEDIO PARA CADERA (cm):  13.212565294098763\n",
      "PVE-T-SC:  0.014560758049365982\n"
     ]
    }
   ],
   "source": [
    "print(\"ERROR MEDIO PARA PESO: \", mean_error_weights)\n",
    "print(\"ERROR MEDIO PARA ALTURA (cm): \", mean_error_heights*100)\n",
    "print(\"ERROR MEDIO PARA PECHO (cm): \", mean_error_chests*100)\n",
    "print(\"ERROR MEDIO PARA CADERA (cm): \", mean_error_hips*100)\n",
    "print('PVE-T-SC: ', total_eval)"
   ]
  },
  {
   "cell_type": "code",
   "execution_count": null,
   "metadata": {},
   "outputs": [],
   "source": []
  }
 ],
 "metadata": {
  "kernelspec": {
   "display_name": "Python 3",
   "language": "python",
   "name": "python3"
  },
  "language_info": {
   "codemirror_mode": {
    "name": "ipython",
    "version": 3
   },
   "file_extension": ".py",
   "mimetype": "text/x-python",
   "name": "python",
   "nbconvert_exporter": "python",
   "pygments_lexer": "ipython3",
   "version": "3.8.3"
  }
 },
 "nbformat": 4,
 "nbformat_minor": 4
}
